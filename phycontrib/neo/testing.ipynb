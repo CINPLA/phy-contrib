{
 "cells": [
  {
   "cell_type": "code",
   "execution_count": 1,
   "metadata": {
    "collapsed": false
   },
   "outputs": [
    {
     "name": "stdout",
     "output_type": "stream",
     "text": [
      "Populating the interactive namespace from numpy and matplotlib\n"
     ]
    }
   ],
   "source": [
    "%load_ext autoreload\n",
    "%autoreload 2\n",
    "%pylab inline\n",
    "import neo\n",
    "import sys\n",
    "sys.path.append('../phy-contrib/phycontrib/neo/')\n",
    "from model import NeoModel\n",
    "import exdir\n",
    "import yaml\n",
    "import os.path as op\n",
    "import quantities as pq"
   ]
  },
  {
   "cell_type": "code",
   "execution_count": 2,
   "metadata": {
    "collapsed": true
   },
   "outputs": [],
   "source": [
    "axona_fname = '../../../axona_data/28121603.set'\n",
    "exdir_fname = '../../../axona_data/28121603.exdir'"
   ]
  },
  {
   "cell_type": "code",
   "execution_count": 3,
   "metadata": {
    "collapsed": false
   },
   "outputs": [],
   "source": [
    "model = NeoModel(axona_fname)"
   ]
  },
  {
   "cell_type": "code",
   "execution_count": 4,
   "metadata": {
    "collapsed": false
   },
   "outputs": [],
   "source": [
    "model.save()"
   ]
  },
  {
   "cell_type": "code",
   "execution_count": 5,
   "metadata": {
    "collapsed": false
   },
   "outputs": [
    {
     "data": {
      "text/plain": [
       "array([0, 1, 2, 3])"
      ]
     },
     "execution_count": 5,
     "metadata": {},
     "output_type": "execute_result"
    }
   ],
   "source": [
    "model.channel_ids"
   ]
  },
  {
   "cell_type": "code",
   "execution_count": 6,
   "metadata": {
    "collapsed": false
   },
   "outputs": [
    {
     "name": "stderr",
     "output_type": "stream",
     "text": [
      "16:33:45 [I] klustakwik KlustaKwik2 version 0.2.6\n",
      "16:33:45 [I] klustakwik.initial_parameters points_for_cluster_mask = 100\n",
      "16:33:45 [I] klustakwik.initial_parameters split_first = 20\n",
      "16:33:45 [I] klustakwik.initial_parameters consider_cluster_deletion = True\n",
      "16:33:45 [I] klustakwik.initial_parameters always_split_bimodal = False\n",
      "16:33:45 [I] klustakwik.initial_parameters subset_break_fraction = 0.01\n",
      "16:33:45 [I] klustakwik.initial_parameters full_step_every = 1\n",
      "16:33:45 [I] klustakwik.initial_parameters use_mua_cluster = True\n",
      "16:33:45 [I] klustakwik.initial_parameters break_fraction = 0.0\n",
      "16:33:45 [I] klustakwik.initial_parameters prior_point = 1\n",
      "16:33:45 [I] klustakwik.initial_parameters penalty_k = 0.0\n",
      "16:33:45 [I] klustakwik.initial_parameters num_changed_threshold = 0.05\n",
      "16:33:45 [I] klustakwik.initial_parameters fast_split = False\n",
      "16:33:45 [I] klustakwik.initial_parameters max_iterations = 1000\n",
      "16:33:45 [I] klustakwik.initial_parameters num_starting_clusters = 500\n",
      "16:33:45 [I] klustakwik.initial_parameters noise_point = 1\n",
      "16:33:45 [I] klustakwik.initial_parameters split_every = 40\n",
      "16:33:45 [I] klustakwik.initial_parameters use_noise_cluster = True\n",
      "16:33:45 [I] klustakwik.initial_parameters penalty_k_log_n = 1.0\n",
      "16:33:45 [I] klustakwik.initial_parameters mua_point = 2\n",
      "16:33:45 [I] klustakwik.initial_parameters max_possible_clusters = 1000\n",
      "16:33:45 [I] klustakwik.initial_parameters max_quick_step_candidates_fraction = 0.4\n",
      "16:33:45 [I] klustakwik.initial_parameters dist_thresh = 9.21034037198\n",
      "16:33:45 [I] klustakwik.initial_parameters max_quick_step_candidates = 100000000\n",
      "16:33:45 [I] klustakwik.initial_parameters max_split_iterations = None\n",
      "16:33:45 [I] klustakwik.initial_parameters num_cpus = None\n",
      "16:33:45 [I] klustakwik Using mask starts with 500 clusters, data has 1 unique masks\n",
      "16:33:45 [W] klustakwik Not enough masks (1) for specified number of starting clusters (500)\n",
      "16:33:45 [I] klustakwik Clustering data set of 4963 points, 4 features\n",
      "16:33:45 [I] klustakwik Starting iteration 0 with 3 clusters\n",
      "16:33:45 [I] klustakwik Iteration 1F: 3 clusters, 11 changed, score=-33572.686928\n",
      "16:33:45 [I] klustakwik Iteration 2F: 3 clusters, 10 changed, score=-33607.748781 (decreased by 35.061854)\n",
      "16:33:45 [I] klustakwik Iteration 3F: 3 clusters, 2 changed, score=-33612.972003 (decreased by 5.223222)\n",
      "16:33:45 [I] klustakwik Iteration 4F: 3 clusters, 1 changed, score=-33613.148715 (decreased by 0.176711)\n",
      "16:33:45 [I] klustakwik Iteration 5F: 3 clusters, 0 changed, score=-33613.166816 (decreased by 0.018101)\n",
      "16:33:45 [I] klustakwik No points changed and last step was full, so trying to split.\n",
      "16:33:45 [I] klustakwik Trying to split clusters\n",
      "16:33:45 [I] klustakwik Split into 4 clusters\n",
      "16:33:45 [I] klustakwik Iteration 6F: 4 clusters, 19 changed, score=-33877.233343 (decreased by 264.066527)\n",
      "16:33:45 [I] klustakwik Iteration 7F: 4 clusters, 19 changed, score=-33918.757089 (decreased by 41.523745)\n",
      "16:33:45 [I] klustakwik Iteration 8F: 4 clusters, 14 changed, score=-33926.357767 (decreased by 7.600678)\n",
      "16:33:45 [I] klustakwik Iteration 9F: 4 clusters, 8 changed, score=-33927.445809 (decreased by 1.088042)\n",
      "16:33:45 [I] klustakwik Iteration 10F: 4 clusters, 7 changed, score=-33928.104693 (decreased by 0.658884)\n",
      "16:33:45 [I] klustakwik Iteration 11F: 4 clusters, 6 changed, score=-33928.656960 (decreased by 0.552267)\n",
      "16:33:45 [I] klustakwik Iteration 12F: 4 clusters, 9 changed, score=-33929.173571 (decreased by 0.516611)\n",
      "16:33:45 [I] klustakwik Iteration 13F: 4 clusters, 6 changed, score=-33930.080027 (decreased by 0.906456)\n",
      "16:33:45 [I] klustakwik Iteration 14F: 4 clusters, 6 changed, score=-33930.624860 (decreased by 0.544833)\n",
      "16:33:45 [I] klustakwik Iteration 15F: 4 clusters, 6 changed, score=-33931.340327 (decreased by 0.715468)\n",
      "16:33:45 [I] klustakwik Iteration 16F: 4 clusters, 8 changed, score=-33932.042184 (decreased by 0.701857)\n",
      "16:33:45 [I] klustakwik Iteration 17F: 4 clusters, 8 changed, score=-33933.485087 (decreased by 1.442902)\n",
      "16:33:45 [I] klustakwik Iteration 18F: 4 clusters, 9 changed, score=-33935.153806 (decreased by 1.668719)\n",
      "16:33:46 [I] klustakwik Iteration 19F: 4 clusters, 10 changed, score=-33937.762611 (decreased by 2.608805)\n",
      "16:33:46 [I] klustakwik Iteration 20F: 4 clusters, 3 changed, score=-33939.231610 (decreased by 1.468998)\n",
      "16:33:46 [I] klustakwik Iteration 21F: 4 clusters, 3 changed, score=-33939.518155 (decreased by 0.286545)\n",
      "16:33:46 [I] klustakwik Iteration 22F: 4 clusters, 4 changed, score=-33939.816341 (decreased by 0.298187)\n",
      "16:33:46 [I] klustakwik Iteration 23F: 4 clusters, 4 changed, score=-33940.139611 (decreased by 0.323270)\n",
      "16:33:46 [I] klustakwik Iteration 24F: 4 clusters, 3 changed, score=-33940.365789 (decreased by 0.226178)\n",
      "16:33:46 [I] klustakwik Iteration 25F: 4 clusters, 2 changed, score=-33940.527182 (decreased by 0.161392)\n",
      "16:33:46 [I] klustakwik Iteration 26F: 4 clusters, 4 changed, score=-33940.746995 (decreased by 0.219813)\n",
      "16:33:46 [I] klustakwik Iteration 27F: 4 clusters, 3 changed, score=-33941.233195 (decreased by 0.486200)\n",
      "16:33:46 [I] klustakwik Iteration 28F: 4 clusters, 1 changed, score=-33941.398435 (decreased by 0.165241)\n",
      "16:33:46 [I] klustakwik Iteration 29F: 4 clusters, 1 changed, score=-33941.425309 (decreased by 0.026874)\n",
      "16:33:46 [I] klustakwik Iteration 30F: 4 clusters, 0 changed, score=-33941.476733 (decreased by 0.051424)\n",
      "16:33:46 [I] klustakwik No points changed and last step was full, so trying to split.\n",
      "16:33:46 [I] klustakwik Trying to split clusters\n",
      "16:33:46 [I] klustakwik No points changed, previous step was full and did not split, so finishing.\n"
     ]
    }
   ],
   "source": [
    "clusters = model.cluster(np.arange(model.n_spikes), model.channel_ids)"
   ]
  },
  {
   "cell_type": "code",
   "execution_count": 7,
   "metadata": {
    "collapsed": false
   },
   "outputs": [
    {
     "data": {
      "text/plain": [
       "array([0, 2, 3])"
      ]
     },
     "execution_count": 7,
     "metadata": {},
     "output_type": "execute_result"
    }
   ],
   "source": [
    "np.unique(clusters)"
   ]
  },
  {
   "cell_type": "code",
   "execution_count": 8,
   "metadata": {
    "collapsed": false
   },
   "outputs": [],
   "source": [
    "model.save(spike_clusters=clusters)"
   ]
  },
  {
   "cell_type": "code",
   "execution_count": 22,
   "metadata": {
    "collapsed": false
   },
   "outputs": [],
   "source": [
    "f = neo.ExdirIO(exdir_fname)\n",
    "blk = f.read_block()\n",
    "sptr = blk.segments[0].spiketrains[0]"
   ]
  },
  {
   "cell_type": "code",
   "execution_count": 27,
   "metadata": {
    "collapsed": false
   },
   "outputs": [
    {
     "data": {
      "text/plain": [
       "True"
      ]
     },
     "execution_count": 27,
     "metadata": {},
     "output_type": "execute_result"
    }
   ],
   "source": [
    "a = np.int64(100)\n",
    "isinstance(a, np.integer)"
   ]
  },
  {
   "cell_type": "code",
   "execution_count": 23,
   "metadata": {
    "collapsed": false
   },
   "outputs": [
    {
     "data": {
      "text/plain": [
       "array(62.0) * s"
      ]
     },
     "execution_count": 23,
     "metadata": {},
     "output_type": "execute_result"
    }
   ],
   "source": [
    "sptr.t_stop"
   ]
  },
  {
   "cell_type": "code",
   "execution_count": 2,
   "metadata": {
    "collapsed": false
   },
   "outputs": [
    {
     "ename": "NameError",
     "evalue": "name 'plot' is not defined",
     "output_type": "error",
     "traceback": [
      "\u001b[0;31m---------------------------------------------------------------------------\u001b[0m",
      "\u001b[0;31mNameError\u001b[0m                                 Traceback (most recent call last)",
      "\u001b[0;32m<ipython-input-2-ab4101e0d554>\u001b[0m in \u001b[0;36m<module>\u001b[0;34m()\u001b[0m\n\u001b[0;32m----> 1\u001b[0;31m \u001b[0ma\u001b[0m\u001b[0;34m=\u001b[0m\u001b[0mplot\u001b[0m\u001b[0;34m(\u001b[0m\u001b[0msptr\u001b[0m\u001b[0;34m.\u001b[0m\u001b[0mwaveforms\u001b[0m\u001b[0;34m[\u001b[0m\u001b[0;34m:\u001b[0m\u001b[0;36m1000\u001b[0m\u001b[0;34m,\u001b[0m\u001b[0;34m:\u001b[0m\u001b[0;34m,\u001b[0m\u001b[0;36m0\u001b[0m\u001b[0;34m]\u001b[0m\u001b[0;34m.\u001b[0m\u001b[0mT\u001b[0m\u001b[0;34m.\u001b[0m\u001b[0mmean\u001b[0m\u001b[0;34m(\u001b[0m\u001b[0maxis\u001b[0m\u001b[0;34m=\u001b[0m\u001b[0;36m1\u001b[0m\u001b[0;34m)\u001b[0m\u001b[0;34m)\u001b[0m\u001b[0;34m\u001b[0m\u001b[0m\n\u001b[0m",
      "\u001b[0;31mNameError\u001b[0m: name 'plot' is not defined"
     ]
    }
   ],
   "source": [
    "a=plot(sptr.waveforms[:1000,:,0].T.mean(axis=1))"
   ]
  },
  {
   "cell_type": "code",
   "execution_count": 11,
   "metadata": {
    "collapsed": false
   },
   "outputs": [],
   "source": [
    "exdir_folder = exdir.File(folder='test.exdir', mode='w')"
   ]
  },
  {
   "cell_type": "code",
   "execution_count": 12,
   "metadata": {
    "collapsed": false
   },
   "outputs": [],
   "source": [
    "tst = exdir_folder.create_group('testgrp')"
   ]
  },
  {
   "cell_type": "code",
   "execution_count": 13,
   "metadata": {
    "collapsed": false
   },
   "outputs": [
    {
     "name": "stdout",
     "output_type": "stream",
     "text": [
      "<class 'exdir.core.Group'>\n"
     ]
    }
   ],
   "source": [
    "print(type(tst))"
   ]
  },
  {
   "cell_type": "code",
   "execution_count": 7,
   "metadata": {
    "collapsed": false
   },
   "outputs": [
    {
     "data": {
      "text/plain": [
       "[('testdata', <exdir.core.Dataset at 0x7f580c1c9a58>)]"
      ]
     },
     "execution_count": 7,
     "metadata": {},
     "output_type": "execute_result"
    }
   ],
   "source": [
    "list(tst.items())"
   ]
  },
  {
   "cell_type": "code",
   "execution_count": 5,
   "metadata": {
    "collapsed": false
   },
   "outputs": [],
   "source": [
    "tst.create_dataset('testdata', np.arange(10)*pq.s)\n",
    "tst.attrs['start_time'] = 1*pq.s"
   ]
  },
  {
   "cell_type": "code",
   "execution_count": 20,
   "metadata": {
    "collapsed": false
   },
   "outputs": [
    {
     "ename": "NameError",
     "evalue": "name 'file' is not defined",
     "output_type": "error",
     "traceback": [
      "\u001b[0;31m---------------------------------------------------------------------------\u001b[0m",
      "\u001b[0;31mNameError\u001b[0m                                 Traceback (most recent call last)",
      "\u001b[0;32m<ipython-input-20-db4290b14755>\u001b[0m in \u001b[0;36m<module>\u001b[0;34m()\u001b[0m\n\u001b[0;32m----> 1\u001b[0;31m \u001b[0mattr_stream\u001b[0m \u001b[0;34m=\u001b[0m \u001b[0mfile\u001b[0m\u001b[0;34m(\u001b[0m\u001b[0mtst\u001b[0m\u001b[0;34m.\u001b[0m\u001b[0mattributes_filename\u001b[0m\u001b[0;34m)\u001b[0m\u001b[0;34m\u001b[0m\u001b[0m\n\u001b[0m\u001b[1;32m      2\u001b[0m \u001b[0myaml\u001b[0m\u001b[0;34m.\u001b[0m\u001b[0mdump\u001b[0m\u001b[0;34m(\u001b[0m\u001b[0;34m{\u001b[0m\u001b[0;34m'asdf'\u001b[0m\u001b[0;34m:\u001b[0m\u001b[0;36m6\u001b[0m\u001b[0;34m}\u001b[0m\u001b[0;34m,\u001b[0m \u001b[0mattr_stream\u001b[0m\u001b[0;34m)\u001b[0m\u001b[0;34m\u001b[0m\u001b[0m\n",
      "\u001b[0;31mNameError\u001b[0m: name 'file' is not defined"
     ]
    }
   ],
   "source": [
    "attr_stream = file(tst.attributes_filename)\n",
    "yaml.dump({'asdf':6}, attr_stream)"
   ]
  }
 ],
 "metadata": {
  "anaconda-cloud": {},
  "kernelspec": {
   "display_name": "Python [conda env:phy]",
   "language": "python",
   "name": "conda-env-phy-py"
  },
  "language_info": {
   "codemirror_mode": {
    "name": "ipython",
    "version": 3
   },
   "file_extension": ".py",
   "mimetype": "text/x-python",
   "name": "python",
   "nbconvert_exporter": "python",
   "pygments_lexer": "ipython3",
   "version": "3.5.2"
  }
 },
 "nbformat": 4,
 "nbformat_minor": 2
}
